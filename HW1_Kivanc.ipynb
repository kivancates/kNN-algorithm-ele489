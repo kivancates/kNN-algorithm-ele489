{
  "nbformat": 4,
  "nbformat_minor": 0,
  "metadata": {
    "colab": {
      "provenance": [],
      "authorship_tag": "ABX9TyNK9c7gwxhzPunBuoda3+da",
      "include_colab_link": true
    },
    "kernelspec": {
      "name": "python3",
      "display_name": "Python 3"
    },
    "language_info": {
      "name": "python"
    }
  },
  "cells": [
    {
      "cell_type": "markdown",
      "metadata": {
        "id": "view-in-github",
        "colab_type": "text"
      },
      "source": [
        "<a href=\"https://colab.research.google.com/github/kivancates/kNN-algorithm-ele489/blob/main/HW1_Kivanc.ipynb\" target=\"_parent\"><img src=\"https://colab.research.google.com/assets/colab-badge.svg\" alt=\"Open In Colab\"/></a>"
      ]
    },
    {
      "cell_type": "code",
      "execution_count": 1,
      "metadata": {
        "colab": {
          "base_uri": "https://localhost:8080/"
        },
        "id": "0srUUCJaZSMJ",
        "outputId": "adb3949f-5d9e-4eef-f724-8b48fac11853"
      },
      "outputs": [
        {
          "output_type": "stream",
          "name": "stdout",
          "text": [
            "Mounted at /content/drive\n"
          ]
        }
      ],
      "source": [
        "from google.colab import drive\n",
        "drive.mount('/content/drive')"
      ]
    },
    {
      "cell_type": "code",
      "source": [
        "\n",
        "import matplotlib.pyplot as plt\n",
        "import numpy as np\n",
        "import pandas as pd\n",
        "import seaborn as sns\n",
        "\n",
        "from kNN import kNN\n",
        "from sklearn import metrics\n",
        "from sklearn.datasets import load_wine\n",
        "from sklearn.model_selection import train_test_split , KFold\n",
        "from sklearn.metrics import accuracy_score, classification_report, confusion_matrix, ConfusionMatrixDisplay\n",
        "from sklearn.preprocessing import StandardScaler\n",
        "\n",
        "# Load dataset\n",
        "wine = load_wine()\n",
        "\n",
        "# Convert to DataFrame and adjust class labels\n",
        "df = pd.DataFrame(data=np.c_[wine['data'], wine['target']], columns=wine['feature_names'] + ['class'])\n",
        "df['class'] = df['class'] + 1  # Convert classes from (0,1,2) to (1,2,3)\n",
        "#df.shape\n",
        "#df.describe()\n",
        "\n",
        "\n",
        "\"\"\"\n",
        "# Plot the features graph to observe overlap\n",
        "sns.set(style=\"whitegrid\")\n",
        "# Plot KDE and Boxplots for all features\n",
        "for feature in wine.feature_names:\n",
        "    plt.figure(figsize=(8, 5))\n",
        "\n",
        "    # KDE Plot\n",
        "    sns.kdeplot(df[df['class'] == 1][feature], label=\"Class 1\", fill=True)\n",
        "    sns.kdeplot(df[df['class'] == 2][feature], label=\"Class 2\", fill=True)\n",
        "    sns.kdeplot(df[df['class'] == 3][feature], label=\"Class 3\", fill=True)\n",
        "\n",
        "    plt.xlabel(feature.capitalize())\n",
        "    plt.ylabel(\"Density\")\n",
        "    plt.title(f\"{feature.capitalize()} Distribution\")\n",
        "    plt.legend()\n",
        "    plt.show()\n",
        "\n",
        "    # Boxplot\n",
        "    plt.figure(figsize=(8, 5))\n",
        "    sns.boxplot(x='class', y=feature, data=df)\n",
        "    plt.xlabel(\"Wine Class\")\n",
        "    plt.ylabel(feature.capitalize())\n",
        "    plt.title(f\"{feature.capitalize()} Distribution Across Classes\")\n",
        "    plt.show()\n",
        "\"\"\"\n",
        "#check dataset contains missing value\n",
        "#print(df.isnull().sum())\n",
        "\n",
        "X = df.iloc[:, :-1]  # All features (excluding class)\n",
        "y = df['class']  # Target variable\n",
        "\n",
        "# 80% Training, 20% Testing\n",
        "X_train, X_test, y_train, y_test = train_test_split(X, y, test_size=0.2, random_state=0)\n",
        "\n",
        "\"\"\"\n",
        "#observe the shape of splitted data\n",
        "print(y_train.shape)\n",
        "print(y_test.shape)\n",
        "print(X_train.shape)\n",
        "print(X_test.shape)\n",
        "\"\"\"\n",
        "\n",
        "scaler = StandardScaler().fit(X_train)  # Fit on training set\n",
        "X_train_standardized = scaler.transform(X_train)  # Transform training set\n",
        "X_test_standardized = scaler.transform(X_test)  # Transform test set\n",
        "y_train = np.array(y_train)\n",
        "y_test = np.array(y_test)\n",
        "k_values = [1,3,5,7,9,11,13]\n",
        "accuracies = []\n",
        "\n",
        "for K in k_values:\n",
        "    clf = kNN(k=K,distance_metric=\"chebyshev\")\n",
        "    clf.fit(X_train_standardized,y_train)\n",
        "    predictions = clf.predict(X_test_standardized)\n",
        "    acc = accuracy_score(y_test, predictions)\n",
        "    accuracies.append(acc)\n",
        "\n",
        "    #print(f\"K={K} → Accuracy: {acc:.4f}\")\n",
        "    #uncomment to see classification_report\n",
        "\n",
        "    report = classification_report(y_test, predictions, target_names=[\"Class 1\", \"Class 2\", \"Class 3\"])\n",
        "    print(f\"                                K={K}\")\n",
        "    print(report)\n",
        "\n",
        "    #uncomment to observe confusion matrices\n",
        "    \"\"\"\n",
        "    conf_matrix = confusion_matrix(y_test, predictions)\n",
        "    cm_display = ConfusionMatrixDisplay(conf_matrix, display_labels=[1, 2, 3])\n",
        "    cm_display.plot(cmap=\"Blues\")\n",
        "    plt.title(f\"Confusion Matrix (K={K})\")\n",
        "    plt.show()\n",
        "    \"\"\"\n",
        "#uncomment to observe accuracy versus K\n",
        "\"\"\"\n",
        "plt.figure(figsize=(8, 5))\n",
        "plt.plot(k_values, accuracies, marker='o', linestyle='-', color='b')\n",
        "plt.xlabel(\"K Value\")\n",
        "plt.ylabel(\"Accuracy\")\n",
        "plt.title(\"KNN Accuracy vs. K\")\n",
        "plt.xticks(k_values)\n",
        "plt.grid(True)\n",
        "plt.show()\n",
        "\"\"\""
      ],
      "metadata": {
        "colab": {
          "base_uri": "https://localhost:8080/",
          "height": 1000
        },
        "id": "ry-lVZNTZeJH",
        "outputId": "820a31ac-6ef6-4d4e-f41b-aa22f9f16436"
      },
      "execution_count": 16,
      "outputs": [
        {
          "output_type": "stream",
          "name": "stdout",
          "text": [
            "                                K=1\n",
            "              precision    recall  f1-score   support\n",
            "\n",
            "     Class 1       1.00      1.00      1.00        14\n",
            "     Class 2       1.00      0.88      0.93        16\n",
            "     Class 3       0.75      1.00      0.86         6\n",
            "\n",
            "    accuracy                           0.94        36\n",
            "   macro avg       0.92      0.96      0.93        36\n",
            "weighted avg       0.96      0.94      0.95        36\n",
            "\n",
            "                                K=3\n",
            "              precision    recall  f1-score   support\n",
            "\n",
            "     Class 1       1.00      1.00      1.00        14\n",
            "     Class 2       1.00      0.88      0.93        16\n",
            "     Class 3       0.75      1.00      0.86         6\n",
            "\n",
            "    accuracy                           0.94        36\n",
            "   macro avg       0.92      0.96      0.93        36\n",
            "weighted avg       0.96      0.94      0.95        36\n",
            "\n",
            "                                K=5\n",
            "              precision    recall  f1-score   support\n",
            "\n",
            "     Class 1       0.93      1.00      0.97        14\n",
            "     Class 2       1.00      0.88      0.93        16\n",
            "     Class 3       0.86      1.00      0.92         6\n",
            "\n",
            "    accuracy                           0.94        36\n",
            "   macro avg       0.93      0.96      0.94        36\n",
            "weighted avg       0.95      0.94      0.94        36\n",
            "\n",
            "                                K=7\n",
            "              precision    recall  f1-score   support\n",
            "\n",
            "     Class 1       0.93      1.00      0.97        14\n",
            "     Class 2       1.00      0.81      0.90        16\n",
            "     Class 3       0.75      1.00      0.86         6\n",
            "\n",
            "    accuracy                           0.92        36\n",
            "   macro avg       0.89      0.94      0.91        36\n",
            "weighted avg       0.93      0.92      0.92        36\n",
            "\n",
            "                                K=9\n",
            "              precision    recall  f1-score   support\n",
            "\n",
            "     Class 1       0.93      1.00      0.97        14\n",
            "     Class 2       1.00      0.88      0.93        16\n",
            "     Class 3       0.86      1.00      0.92         6\n",
            "\n",
            "    accuracy                           0.94        36\n",
            "   macro avg       0.93      0.96      0.94        36\n",
            "weighted avg       0.95      0.94      0.94        36\n",
            "\n",
            "                                K=11\n",
            "              precision    recall  f1-score   support\n",
            "\n",
            "     Class 1       0.93      1.00      0.97        14\n",
            "     Class 2       1.00      0.81      0.90        16\n",
            "     Class 3       0.75      1.00      0.86         6\n",
            "\n",
            "    accuracy                           0.92        36\n",
            "   macro avg       0.89      0.94      0.91        36\n",
            "weighted avg       0.93      0.92      0.92        36\n",
            "\n",
            "                                K=13\n",
            "              precision    recall  f1-score   support\n",
            "\n",
            "     Class 1       0.93      1.00      0.97        14\n",
            "     Class 2       1.00      0.81      0.90        16\n",
            "     Class 3       0.75      1.00      0.86         6\n",
            "\n",
            "    accuracy                           0.92        36\n",
            "   macro avg       0.89      0.94      0.91        36\n",
            "weighted avg       0.93      0.92      0.92        36\n",
            "\n"
          ]
        },
        {
          "output_type": "execute_result",
          "data": {
            "text/plain": [
              "'\\nplt.figure(figsize=(8, 5))\\nplt.plot(k_values, accuracies, marker=\\'o\\', linestyle=\\'-\\', color=\\'b\\')\\nplt.xlabel(\"K Value\")\\nplt.ylabel(\"Accuracy\")\\nplt.title(\"KNN Accuracy vs. K\")\\nplt.xticks(k_values)\\nplt.grid(True)\\nplt.show()\\n'"
            ],
            "application/vnd.google.colaboratory.intrinsic+json": {
              "type": "string"
            }
          },
          "metadata": {},
          "execution_count": 16
        }
      ]
    }
  ]
}